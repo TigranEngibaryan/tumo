{
 "cells": [
  {
   "cell_type": "code",
   "execution_count": 29,
   "metadata": {
    "collapsed": false,
    "deletable": true,
    "editable": true
   },
   "outputs": [
    {
     "name": "stdout",
     "output_type": "stream",
     "text": [
      "C= 5.0 \n",
      "S= 314.1592653589793\n"
     ]
    }
   ],
   "source": [
    "from math import sqrt,pi\n",
    "a=3; b=4; R=10;\n",
    "c=math.sqrt(a**2+b**2)\n",
    "S=math.pi*R**2\n",
    "print(\"C=\",c,\"\\nS=\",S)"
   ]
  },
  {
   "cell_type": "code",
   "execution_count": 34,
   "metadata": {
    "collapsed": false,
    "deletable": true,
    "editable": true
   },
   "outputs": [
    {
     "name": "stdout",
     "output_type": "stream",
     "text": [
      "5.0\n"
     ]
    }
   ],
   "source": [
    "def fun(a,b):\n",
    "    res=math.sqrt(a**2 + b**2)\n",
    "    return res\n",
    "c=fun(3,4)\n",
    "print(c)"
   ]
  },
  {
   "cell_type": "code",
   "execution_count": 33,
   "metadata": {
    "collapsed": false,
    "deletable": true,
    "editable": true
   },
   "outputs": [
    {
     "name": "stdout",
     "output_type": "stream",
     "text": [
      "Welcome,Julie!\n"
     ]
    }
   ],
   "source": [
    "def h(name):\n",
    "    l='Welcome,'+name+'!'\n",
    "    print(l)\n",
    "h('Julie')"
   ]
  },
  {
   "cell_type": "code",
   "execution_count": null,
   "metadata": {
    "collapsed": true,
    "deletable": true,
    "editable": true
   },
   "outputs": [],
   "source": [
    "def sum_(lst):\n",
    "    a=0\n",
    "    for num in lst:\n",
    "        a=a+num\n",
    "    return a\n",
    "\n",
    "y=sum_([1,2,3,4,5])\n",
    "print(y)\n",
    "\n"
   ]
  },
  {
   "cell_type": "code",
   "execution_count": 3,
   "metadata": {
    "collapsed": false,
    "deletable": true,
    "editable": true
   },
   "outputs": [
    {
     "name": "stdout",
     "output_type": "stream",
     "text": [
      "3 | 6\n"
     ]
    }
   ],
   "source": [
    "a=6 \n",
    "b=3\n",
    "a,b=b,a\n",
    "print(a,\"|\",b)\n"
   ]
  },
  {
   "cell_type": "code",
   "execution_count": 7,
   "metadata": {
    "collapsed": false
   },
   "outputs": [
    {
     "name": "stdout",
     "output_type": "stream",
     "text": [
      "120\n"
     ]
    }
   ],
   "source": [
    "a=1;b=5\n",
    "for i in range(1,b+1):\n",
    "    a=a*i\n",
    "print(a)    \n"
   ]
  },
  {
   "cell_type": "code",
   "execution_count": 15,
   "metadata": {
    "collapsed": false
   },
   "outputs": [
    {
     "name": "stdout",
     "output_type": "stream",
     "text": [
      "Tvi Factorial:6\n",
      "6 Tvi Factorial= 720\n"
     ]
    }
   ],
   "source": [
    "c=int(input(\"Tvi Factorial:\"))\n",
    "def fact(num):\n",
    "    x=1\n",
    "    for i in range(1,num+1):\n",
    "        x=x*i\n",
    "    return x\n",
    "\n",
    "b=fact(c)\n",
    "print(c,\"Tvi Factorial=\",b)"
   ]
  },
  {
   "cell_type": "code",
   "execution_count": 16,
   "metadata": {
    "collapsed": false
   },
   "outputs": [
    {
     "name": "stdout",
     "output_type": "stream",
     "text": [
      "downloader.ipynb    ex_1.ipynb\tex_3.ipynb\t   ;).ipynb\r\n",
      "downloader.ipynb.1  ex_2.ipynb\tgit-github.ipynb\r\n"
     ]
    }
   ],
   "source": [
    "!ls\n"
   ]
  },
  {
   "cell_type": "code",
   "execution_count": 18,
   "metadata": {
    "collapsed": false
   },
   "outputs": [
    {
     "name": "stdout",
     "output_type": "stream",
     "text": [
      "/home/s150921001702\r\n"
     ]
    }
   ],
   "source": [
    "!pwd\n"
   ]
  },
  {
   "cell_type": "code",
   "execution_count": null,
   "metadata": {
    "collapsed": true
   },
   "outputs": [],
   "source": []
  }
 ],
 "metadata": {
  "kernelspec": {
   "display_name": "Python 3",
   "language": "python",
   "name": "python3"
  },
  "language_info": {
   "codemirror_mode": {
    "name": "ipython",
    "version": 3
   },
   "file_extension": ".py",
   "mimetype": "text/x-python",
   "name": "python",
   "nbconvert_exporter": "python",
   "pygments_lexer": "ipython3",
   "version": "3.6.0"
  }
 },
 "nbformat": 4,
 "nbformat_minor": 2
}
