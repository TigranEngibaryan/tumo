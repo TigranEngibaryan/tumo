{
 "cells": [
  {
   "cell_type": "code",
   "execution_count": 20,
   "metadata": {
    "collapsed": false
   },
   "outputs": [
    {
     "name": "stdout",
     "output_type": "stream",
     "text": [
      "count: 2\n",
      "min: 128.83\n",
      "index: 3\n",
      "[159.99, 160.0, 205.95, 175.49, 160.0]\n"
     ]
    }
   ],
   "source": [
    "lst=[159.99,160.00,205.95,128.83,175.49]\n",
    "lst.append(160.00)\n",
    "print(\"count:\",lst.count(160.00))\n",
    "print(\"min:\",min(lst))\n",
    "print(\"index:\",lst.index(128.83))\n",
    "lst.remove(128.83)\n",
    "lst.sort\n",
    "print(lst)\n",
    "\n",
    "\n"
   ]
  },
  {
   "cell_type": "code",
   "execution_count": null,
   "metadata": {
    "collapsed": true
   },
   "outputs": [],
   "source": []
  }
 ],
 "metadata": {
  "kernelspec": {
   "display_name": "Python 3",
   "language": "python",
   "name": "python3"
  },
  "language_info": {
   "codemirror_mode": {
    "name": "ipython",
    "version": 3
   },
   "file_extension": ".py",
   "mimetype": "text/x-python",
   "name": "python",
   "nbconvert_exporter": "python",
   "pygments_lexer": "ipython3",
   "version": "3.6.0"
  }
 },
 "nbformat": 4,
 "nbformat_minor": 2
}
